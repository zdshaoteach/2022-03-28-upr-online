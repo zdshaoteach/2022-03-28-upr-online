{
 "cells": [
  {
   "cell_type": "code",
   "execution_count": null,
   "id": "0d4ccf39-f2ea-4445-abb5-13a8fd14cd70",
   "metadata": {},
   "outputs": [
    {
     "name": "stdout",
     "output_type": "stream",
     "text": [
      "current time is 2022-03-29 16:45:26.611157\n"
     ]
    }
   ],
   "source": [
    "import time\n",
    "import datetime\n",
    "\n",
    "interval = 1 * 60 # 1 mins\n",
    "wait_time = 30 * 60 # 30 mins\n",
    "print('current time is', datetime.datetime.now())\n",
    "for i in range(int(wait_time/interval)):\n",
    "    time.sleep(interval)\n",
    "    print('waited for {} seconds'.format(interval))\n",
    "    print('current time is', datetime.datetime.now())\n",
    "    \n",
    "print('total wait time is {} seconds'.format(wait_time))"
   ]
  },
  {
   "cell_type": "code",
   "execution_count": null,
   "id": "1d0d654e-508f-4254-b0c4-5f95412b1b79",
   "metadata": {},
   "outputs": [],
   "source": []
  }
 ],
 "metadata": {
  "kernelspec": {
   "display_name": "Python 3 (ipykernel)",
   "language": "python",
   "name": "python3"
  },
  "language_info": {
   "codemirror_mode": {
    "name": "ipython",
    "version": 3
   },
   "file_extension": ".py",
   "mimetype": "text/x-python",
   "name": "python",
   "nbconvert_exporter": "python",
   "pygments_lexer": "ipython3",
   "version": "3.9.12"
  }
 },
 "nbformat": 4,
 "nbformat_minor": 5
}
