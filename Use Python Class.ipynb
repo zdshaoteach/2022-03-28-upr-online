{
 "cells": [
  {
   "cell_type": "code",
   "execution_count": 1,
   "id": "1b0154af",
   "metadata": {},
   "outputs": [],
   "source": [
    "import lib"
   ]
  },
  {
   "cell_type": "code",
   "execution_count": 2,
   "id": "c9dd7a1f",
   "metadata": {},
   "outputs": [
    {
     "data": {
      "text/plain": [
       "['PersonalInformation',\n",
       " '__builtins__',\n",
       " '__cached__',\n",
       " '__doc__',\n",
       " '__file__',\n",
       " '__loader__',\n",
       " '__name__',\n",
       " '__package__',\n",
       " '__path__',\n",
       " '__spec__',\n",
       " 'data',\n",
       " 'get_person_age',\n",
       " 'util']"
      ]
     },
     "execution_count": 2,
     "metadata": {},
     "output_type": "execute_result"
    }
   ],
   "source": [
    "dir(lib)"
   ]
  },
  {
   "cell_type": "code",
   "execution_count": 3,
   "id": "0b1b7bdd",
   "metadata": {},
   "outputs": [],
   "source": [
    "info = lib.PersonalInformation()"
   ]
  },
  {
   "cell_type": "code",
   "execution_count": 4,
   "id": "4c9296db",
   "metadata": {},
   "outputs": [
    {
     "data": {
      "text/plain": [
       "<lib.data.PersonalInformation at 0x10c19d460>"
      ]
     },
     "execution_count": 4,
     "metadata": {},
     "output_type": "execute_result"
    }
   ],
   "source": [
    "info"
   ]
  },
  {
   "cell_type": "code",
   "execution_count": 5,
   "id": "c1c49e59",
   "metadata": {},
   "outputs": [
    {
     "data": {
      "text/plain": [
       "'Doris'"
      ]
     },
     "execution_count": 5,
     "metadata": {},
     "output_type": "execute_result"
    }
   ],
   "source": [
    "info.name"
   ]
  },
  {
   "cell_type": "code",
   "execution_count": 6,
   "id": "44cfe094",
   "metadata": {},
   "outputs": [
    {
     "data": {
      "text/plain": [
       "19"
      ]
     },
     "execution_count": 6,
     "metadata": {},
     "output_type": "execute_result"
    }
   ],
   "source": [
    "info.age"
   ]
  },
  {
   "cell_type": "code",
   "execution_count": 7,
   "id": "74c75a49",
   "metadata": {},
   "outputs": [
    {
     "data": {
      "text/plain": [
       "25"
      ]
     },
     "execution_count": 7,
     "metadata": {},
     "output_type": "execute_result"
    }
   ],
   "source": [
    "info.set_age(25)"
   ]
  },
  {
   "cell_type": "code",
   "execution_count": 8,
   "id": "d3c5f2a6",
   "metadata": {},
   "outputs": [
    {
     "data": {
      "text/plain": [
       "25"
      ]
     },
     "execution_count": 8,
     "metadata": {},
     "output_type": "execute_result"
    }
   ],
   "source": [
    "info.age"
   ]
  },
  {
   "cell_type": "code",
   "execution_count": 9,
   "id": "58581ad1",
   "metadata": {},
   "outputs": [
    {
     "data": {
      "text/plain": [
       "25"
      ]
     },
     "execution_count": 9,
     "metadata": {},
     "output_type": "execute_result"
    }
   ],
   "source": [
    "info.get_age()"
   ]
  },
  {
   "cell_type": "code",
   "execution_count": 10,
   "id": "9d8f5338",
   "metadata": {},
   "outputs": [
    {
     "data": {
      "text/plain": [
       "25"
      ]
     },
     "execution_count": 10,
     "metadata": {},
     "output_type": "execute_result"
    }
   ],
   "source": [
    "lib.get_person_age(info)"
   ]
  },
  {
   "cell_type": "code",
   "execution_count": null,
   "id": "60ebdf00",
   "metadata": {},
   "outputs": [],
   "source": []
  }
 ],
 "metadata": {
  "kernelspec": {
   "display_name": "Python 3 (ipykernel)",
   "language": "python",
   "name": "python3"
  },
  "language_info": {
   "codemirror_mode": {
    "name": "ipython",
    "version": 3
   },
   "file_extension": ".py",
   "mimetype": "text/x-python",
   "name": "python",
   "nbconvert_exporter": "python",
   "pygments_lexer": "ipython3",
   "version": "3.9.12"
  }
 },
 "nbformat": 4,
 "nbformat_minor": 5
}
