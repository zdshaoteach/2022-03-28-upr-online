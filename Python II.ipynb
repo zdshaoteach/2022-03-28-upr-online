{
 "cells": [
  {
   "cell_type": "markdown",
   "id": "ac4ce245",
   "metadata": {},
   "source": [
    "# Python II"
   ]
  },
  {
   "cell_type": "markdown",
   "id": "2a8d7c52",
   "metadata": {},
   "source": [
    "reference curriculum: [Plotting and Programming in Python](https://swcarpentry.github.io/python-novice-gapminder/)"
   ]
  },
  {
   "cell_type": "markdown",
   "id": "da681589",
   "metadata": {},
   "source": [
    "Duration:\n",
    "- 90 mins\n",
    "    \n",
    "Questions:\n",
    "- how to control with conditions and repetitions?\n",
    "- how to read and write data on my storage?\n",
    "- how to use an available python library?\n",
    "    \n",
    "objective:\n",
    "- work with control flow: conditions and loops\n",
    "- import python modules\n",
    "- store data in python and understand data types\n",
    "- operate data\n",
    "- introduce help and built-in functions"
   ]
  },
  {
   "cell_type": "code",
   "execution_count": null,
   "id": "9ca233fe",
   "metadata": {},
   "outputs": [],
   "source": []
  },
  {
   "cell_type": "code",
   "execution_count": null,
   "id": "9fa1a4ab",
   "metadata": {},
   "outputs": [],
   "source": []
  },
  {
   "cell_type": "code",
   "execution_count": null,
   "id": "c90b3c25",
   "metadata": {},
   "outputs": [],
   "source": []
  },
  {
   "cell_type": "code",
   "execution_count": null,
   "id": "de1e0920",
   "metadata": {},
   "outputs": [],
   "source": [
    "########################################\n",
    "# exercise: "
   ]
  },
  {
   "cell_type": "code",
   "execution_count": null,
   "id": "7c267d68",
   "metadata": {},
   "outputs": [],
   "source": []
  },
  {
   "cell_type": "code",
   "execution_count": null,
   "id": "a002ca36",
   "metadata": {},
   "outputs": [],
   "source": []
  },
  {
   "cell_type": "code",
   "execution_count": null,
   "id": "d97bce4b",
   "metadata": {},
   "outputs": [],
   "source": []
  }
 ],
 "metadata": {
  "kernelspec": {
   "display_name": "Python 3 (ipykernel)",
   "language": "python",
   "name": "python3"
  },
  "language_info": {
   "codemirror_mode": {
    "name": "ipython",
    "version": 3
   },
   "file_extension": ".py",
   "mimetype": "text/x-python",
   "name": "python",
   "nbconvert_exporter": "python",
   "pygments_lexer": "ipython3",
   "version": "3.9.12"
  }
 },
 "nbformat": 4,
 "nbformat_minor": 5
}
