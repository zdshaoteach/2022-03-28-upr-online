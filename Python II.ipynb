{
 "cells": [
  {
   "cell_type": "markdown",
   "id": "1f0f8d17",
   "metadata": {},
   "source": [
    "# Python II"
   ]
  },
  {
   "cell_type": "markdown",
   "id": "544fc950",
   "metadata": {},
   "source": [
    "reference curriculum: [Plotting and Programming in Python](https://swcarpentry.github.io/python-novice-gapminder/)"
   ]
  },
  {
   "cell_type": "markdown",
   "id": "efa04c96",
   "metadata": {},
   "source": [
    "Duration:\n",
    "- 90 mins\n",
    "    \n",
    "Questions:\n",
    "- how to control with conditions and repetitions?\n",
    "- how to read and write data on my storage?\n",
    "- how to use an available python library?\n",
    "    \n",
    "objective:\n",
    "- work with control flow: conditions and loops\n",
    "- import python modules\n",
    "- store data in python and understand data types\n",
    "- operate data\n",
    "- introduce help and built-in functions"
   ]
  },
  {
   "cell_type": "code",
   "execution_count": null,
   "id": "1f72e047",
   "metadata": {},
   "outputs": [],
   "source": []
  },
  {
   "cell_type": "code",
   "execution_count": null,
   "id": "ce9eb6b9",
   "metadata": {},
   "outputs": [],
   "source": []
  },
  {
   "cell_type": "code",
   "execution_count": null,
   "id": "942a71b2",
   "metadata": {},
   "outputs": [],
   "source": []
  },
  {
   "cell_type": "code",
   "execution_count": null,
   "id": "59db332b",
   "metadata": {},
   "outputs": [],
   "source": []
  },
  {
   "cell_type": "code",
   "execution_count": null,
   "id": "1a89f19e",
   "metadata": {},
   "outputs": [],
   "source": []
  },
  {
   "cell_type": "code",
   "execution_count": null,
   "id": "800fee27",
   "metadata": {},
   "outputs": [],
   "source": []
  },
  {
   "cell_type": "code",
   "execution_count": null,
   "id": "14699c7a",
   "metadata": {},
   "outputs": [],
   "source": []
  }
 ],
 "metadata": {
  "kernelspec": {
   "display_name": "Python 3 (ipykernel)",
   "language": "python",
   "name": "python3"
  },
  "language_info": {
   "codemirror_mode": {
    "name": "ipython",
    "version": 3
   },
   "file_extension": ".py",
   "mimetype": "text/x-python",
   "name": "python",
   "nbconvert_exporter": "python",
   "pygments_lexer": "ipython3",
   "version": "3.9.12"
  }
 },
 "nbformat": 4,
 "nbformat_minor": 5
}
